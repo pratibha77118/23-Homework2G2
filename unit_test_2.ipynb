{
  "nbformat": 4,
  "nbformat_minor": 0,
  "metadata": {
    "colab": {
      "provenance": [],
      "authorship_tag": "ABX9TyNrOKqpG1rLPXSR+pJMhNaq",
      "include_colab_link": true
    },
    "kernelspec": {
      "name": "python3",
      "display_name": "Python 3"
    },
    "language_info": {
      "name": "python"
    }
  },
  "cells": [
    {
      "cell_type": "markdown",
      "metadata": {
        "id": "view-in-github",
        "colab_type": "text"
      },
      "source": [
        "<a href=\"https://colab.research.google.com/github/pratibha77118/23-Homework2G2/blob/main/unit_test_2.ipynb\" target=\"_parent\"><img src=\"https://colab.research.google.com/assets/colab-badge.svg\" alt=\"Open In Colab\"/></a>"
      ]
    },
    {
      "cell_type": "code",
      "source": [],
      "metadata": {
        "id": "F9QXsXUgxVQh"
      },
      "execution_count": 1,
      "outputs": []
    },
    {
      "cell_type": "code",
      "execution_count": 2,
      "metadata": {
        "colab": {
          "base_uri": "https://localhost:8080/"
        },
        "id": "M7hl4KHjxNwV",
        "outputId": "6b6698fd-b769-4175-a8e6-95ff56aea547"
      },
      "outputs": [
        {
          "output_type": "stream",
          "name": "stdout",
          "text": [
            "CPU times: user 49 µs, sys: 0 ns, total: 49 µs\n",
            "Wall time: 53.9 µs\n",
            "CPU times: user 39 µs, sys: 0 ns, total: 39 µs\n",
            "Wall time: 42.7 µs\n",
            "Original Array:\n",
            "[[1, 2, 3], [4, 5, 6], [7, 8, 9]]\n",
            "\n",
            "Sum Along Rows (Axis 0) using Einstein summation:\n",
            "[ 6 15 24]\n",
            "\n",
            "Sum Along Columns (Axis 1) using Einstein summation:\n",
            "[12 15 18]\n",
            "Elapsed Time: 5003.008000 microseconds\n"
          ]
        }
      ],
      "source": [
        "import timeit\n",
        "import numpy as np\n",
        "def array_axis_summation(array):\n",
        "    \"\"\"\n",
        "    Demonstrates array axis summations using the Einstein summation convention.\n",
        "\n",
        "    Given a 2D array as input, it performs summations along rows (axis 0)\n",
        "    and columns (axis 1) using the Einstein summation convention and\n",
        "    prints the original array and the summation results.\n",
        "\n",
        "    Parameters:\n",
        "    array (numpy.ndarray): The input 2D array for summation.\n",
        "    \"\"\"\n",
        "\n",
        "    # Sum along rows (axis 0) using Einstein summation convention\n",
        "    row_sums = np.einsum('ij->i', array)\n",
        "    %time np.einsum('ij->j', array)    #this function will calculate and print the consumed time\n",
        "\n",
        "    # Sum along columns (axis 1) using Einstein summation convention\n",
        "    column_sums = np.einsum('ij->j', array)\n",
        "    %time np.einsum('ij->i', array)    #this function will calculate and print the consumed time\n",
        "\n",
        "    print(\"Original Array:\")\n",
        "    print(array)\n",
        "\n",
        "    print(\"\\nSum Along Rows (Axis 0) using Einstein summation:\")\n",
        "    print(row_sums)\n",
        "\n",
        "    print(\"\\nSum Along Columns (Axis 1) using Einstein summation:\")\n",
        "    print(column_sums)\n",
        "\n",
        "\n",
        "# Define the code block as a function\n",
        "def timed_code():\n",
        "    user_array = [[1, 2, 3],\n",
        "                  [4, 5, 6],\n",
        "                  [7, 8, 9]]\n",
        "    array_axis_summation(user_array)\n",
        "\n",
        "# Measure the execution time with timeit\n",
        "elapsed_time = timeit.timeit(timed_code, number=1)\n",
        "elapsed_time_micro = elapsed_time * 1e6\n",
        "\n",
        "# Print the elapsed time in seconds\n",
        "print(f\"Elapsed Time: {elapsed_time_micro:.6f} microseconds\")"
      ]
    },
    {
      "cell_type": "markdown",
      "source": [],
      "metadata": {
        "id": "ddqzUU-6xX42"
      }
    }
  ]
}